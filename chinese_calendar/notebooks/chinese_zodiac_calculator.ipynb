{
 "cells": [
  {
   "cell_type": "code",
   "execution_count": 29,
   "metadata": {},
   "outputs": [
    {
     "name": "stdout",
     "output_type": "stream",
     "text": [
      "Year of birth: 1989\n",
      "Zodiac sign: Snake\n",
      "Element: Earth\n"
     ]
    }
   ],
   "source": [
    "# Reto #33\n",
    "# CICLO SEXAGENARIO CHINO\n",
    "# Fecha publicación enunciado: 15/08/22\n",
    "# Fecha publicación resolución: 22/08/22\n",
    "# Dificultad: MEDIA\n",
    "#\n",
    "# Enunciado: Crea un función, que dado un año, indique el elemento y animal correspondiente\n",
    "# en el ciclo sexagenario del zodíaco chino.\n",
    "# - Información: https://www.travelchinaguide.com/intro/astrology/60year-cycle.htm\n",
    "# - El ciclo sexagenario se corresponde con la combinación de los elementos madera,\n",
    "#   fuego, tierra, metal, agua y los animales rata, buey, tigre, conejo, dragón, serpiente,\n",
    "#   caballo, oveja, mono, gallo, perro, cerdo (en este orden).\n",
    "# - Cada elemento se repite dos años seguidos.\n",
    "# - El último ciclo sexagenario comenzó en 1984 (Madera Rata).\n",
    "#\n",
    "# Información adicional:\n",
    "# - Usa el canal de nuestro Discord (https://mouredev.com/discord) \"🔁reto-semanal\" para preguntas, dudas o prestar ayuda a la comunidad.\n",
    "# - Tienes toda la información sobre los retos semanales en https://retosdeprogramacion.com/semanales2022.\n",
    "\n",
    "import pandas as pd\n",
    "\n",
    "db = pd.read_csv('db_chinese_calendar.csv', index_col=0)\n",
    "\n",
    "def your_chinese_zodiac(year):\n",
    "    if year in list(db['gregorian_year']):\n",
    "        return db.loc[db['gregorian_year'] == year][['branch', 'zodiac_sign', 'wu_xing']]\n",
    "    else:\n",
    "        if year < 1924:\n",
    "            while year <= 1924:\n",
    "                year += 60\n",
    "            return db.loc[db['gregorian_year'] == year][['branch', 'zodiac_sign', 'wu_xing']]\n",
    "        else:\n",
    "            while year > 1983:\n",
    "                year -= 60\n",
    "            return db.loc[db['gregorian_year'] == year][['branch', 'zodiac_sign', 'wu_xing']]\n",
    "\n",
    "valid = False\n",
    "while not valid:\n",
    "    try:\n",
    "        year = int(input('Enter the year you were born:'))\n",
    "        df = your_chinese_zodiac(year)\n",
    "        print(f'Year of birth: {year}')\n",
    "        print(f'Zodiac sign: {df.zodiac_sign.values[0]}')\n",
    "        print(f'Element: {df.wu_xing.values[0]}')\n",
    "        valid = True\n",
    "    except:\n",
    "        print('Check your birth date, something might be wrong. Please input your year of birth again') "
   ]
  },
  {
   "cell_type": "code",
   "execution_count": null,
   "metadata": {},
   "outputs": [],
   "source": []
  }
 ],
 "metadata": {
  "kernelspec": {
   "display_name": "Python 3.9.7 ('base')",
   "language": "python",
   "name": "python3"
  },
  "language_info": {
   "codemirror_mode": {
    "name": "ipython",
    "version": 3
   },
   "file_extension": ".py",
   "mimetype": "text/x-python",
   "name": "python",
   "nbconvert_exporter": "python",
   "pygments_lexer": "ipython3",
   "version": "3.9.7"
  },
  "orig_nbformat": 4,
  "vscode": {
   "interpreter": {
    "hash": "81535c40c187213d8173a98c8ffbf422147d8403865cdcdb817e05fa807ec559"
   }
  }
 },
 "nbformat": 4,
 "nbformat_minor": 2
}
