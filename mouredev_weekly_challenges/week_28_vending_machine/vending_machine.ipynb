{
 "cells": [
  {
   "cell_type": "code",
   "execution_count": 167,
   "metadata": {},
   "outputs": [
    {
     "name": "stdout",
     "output_type": "stream",
     "text": [
      "Please insert more coins\n",
      "Take your coins back: [5, 10, 10]\n"
     ]
    }
   ],
   "source": [
    "# Simula el funcionamiento de una máquina expendedora creando una operación\n",
    "# que reciba dinero (array de monedas) y un número que indique la selección\n",
    "# del producto.\n",
    "# - El programa retornará el nombre del producto y un array con el dinero\n",
    "#   de vuelta (con el menor número de monedas).\n",
    "# - Si el dinero es insuficiente o el número de producto no existe,\n",
    "#   deberá indicarse con un mensaje y retornar todas las monedas.\n",
    "# - Si no hay dinero de vuelta, el array se retornará vacío.\n",
    "# - Para que resulte más simple, trabajaremos en céntimos con monedas\n",
    "#   de 5, 10, 50, 100 y 200.\n",
    "# - Debemos controlar que las monedas enviadas estén dentro de las soportadas.\n",
    "\n",
    "def vending(money_list, product_number):\n",
    "    \n",
    "    products = {\n",
    "        'soda':75,\n",
    "        'chips':60,\n",
    "        'cookies':80,\n",
    "        'sandwich':150,\n",
    "        'chocolate':25\n",
    "    }\n",
    "\n",
    "    # coins denomination check\n",
    "    accepted_coins = [5,10,50,100,200]\n",
    "    accepted_coins.sort(reverse=True)\n",
    "    for i in money_list:\n",
    "        if i in accepted_coins:\n",
    "            pass\n",
    "        else:\n",
    "            return print(f'This machine does not support coins of {i} cents')\n",
    "\n",
    "    # product number check\n",
    "    if product_number > len(products) -1:\n",
    "        return print(f'Product number should not be greater than {len(products) -1}')\n",
    "    else:\n",
    "        product_name = list(products)[product_number]\n",
    "    \n",
    "    # money quantity check\n",
    "    if sum(money_list) < list(products.values())[product_number]:\n",
    "        return print(f'Please insert more coins\\nTake your coins back: {money_list}')\n",
    "    else:\n",
    "        total_money_change = sum(money_list) - list(products.values())[product_number]\n",
    "        money_change = []\n",
    "        while total_money_change != 0:\n",
    "            for i in accepted_coins:\n",
    "                if total_money_change < i:\n",
    "                    pass\n",
    "                else:\n",
    "                    money_change.append(i)\n",
    "                    total_money_change -= i\n",
    "                    break\n",
    "        return print(f'Product selected: {product_name}\\nYour change: {money_change}')\n",
    "\n",
    "vending([5,10,10], 0)"
   ]
  },
  {
   "cell_type": "code",
   "execution_count": null,
   "metadata": {},
   "outputs": [],
   "source": []
  }
 ],
 "metadata": {
  "kernelspec": {
   "display_name": "Python 3.9.7 ('base')",
   "language": "python",
   "name": "python3"
  },
  "language_info": {
   "codemirror_mode": {
    "name": "ipython",
    "version": 3
   },
   "file_extension": ".py",
   "mimetype": "text/x-python",
   "name": "python",
   "nbconvert_exporter": "python",
   "pygments_lexer": "ipython3",
   "version": "3.9.7"
  },
  "orig_nbformat": 4,
  "vscode": {
   "interpreter": {
    "hash": "81535c40c187213d8173a98c8ffbf422147d8403865cdcdb817e05fa807ec559"
   }
  }
 },
 "nbformat": 4,
 "nbformat_minor": 2
}
