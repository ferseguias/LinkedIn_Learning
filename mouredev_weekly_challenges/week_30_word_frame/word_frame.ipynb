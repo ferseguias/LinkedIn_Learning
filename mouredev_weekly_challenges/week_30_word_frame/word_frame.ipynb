{
 "cells": [
  {
   "cell_type": "code",
   "execution_count": 33,
   "metadata": {},
   "outputs": [
    {
     "name": "stdout",
     "output_type": "stream",
     "text": [
      "**********\n",
      "* ¿Qué   *\n",
      "* te     *\n",
      "* parece *\n",
      "* el     *\n",
      "* reto?  *\n",
      "**********\n"
     ]
    }
   ],
   "source": [
    "# Reto #30\n",
    "# MARCO DE PALABRAS\n",
    "# Fecha publicación enunciado: 26/07/22\n",
    "# Fecha publicación resolución: 01/08/22\n",
    "# Dificultad: FÁCIL\n",
    "#\n",
    "# Enunciado: Crea una función que reciba un texto y muestre cada palabra en una línea, formando\n",
    "# un marco rectangular de asteriscos.\n",
    "# - ¿Qué te parece el reto? Se vería así:\n",
    "#   **********\n",
    "#   * ¿Qué   *\n",
    "#   * te     *\n",
    "#   * parece *\n",
    "#   * el     *\n",
    "#   * reto?  *\n",
    "#   **********\n",
    "#\n",
    "# Información adicional:\n",
    "# - Usa el canal de nuestro discord (https://mouredev.com/discord) \"🔁reto-semanal\" para preguntas, dudas o prestar ayuda a la comunidad.\n",
    "# - Puedes hacer un Fork del repo y una Pull Request al repo original para que veamos tu solución aportada.\n",
    "# - Revisaré el ejercicio en directo desde Twitch el lunes siguiente al de su publicación.\n",
    "# - Subiré una posible solución al ejercicio el lunes siguiente al de su publicación.\n",
    "\n",
    "import pandas as pd\n",
    "\n",
    "def words_frame(x):\n",
    "    words_list = x.split(\" \")\n",
    "    longest_word = len(max(words_list, key=len))\n",
    "    print('*' * longest_word + '****')\n",
    "    for i in range(0,len(words_list)):\n",
    "        print('*', words_list[i] + (' ' * (longest_word + 1 - len(words_list[i]))) + '*')\n",
    "    print('*' * longest_word + '****')\n",
    "\n",
    "words_frame('¿Qué te parece el reto?')"
   ]
  },
  {
   "cell_type": "code",
   "execution_count": 34,
   "metadata": {},
   "outputs": [
    {
     "name": "stdout",
     "output_type": "stream",
     "text": [
      "**************************\n",
      "* Y                      *\n",
      "* si                     *\n",
      "* hay                    *\n",
      "* una                    *\n",
      "* palabra                *\n",
      "* muy                    *\n",
      "* larga                  *\n",
      "* como                   *\n",
      "* esternocleidomastoideo *\n",
      "**************************\n"
     ]
    }
   ],
   "source": [
    "words_frame('Y si hay una palabra muy larga como esternocleidomastoideo')"
   ]
  },
  {
   "cell_type": "code",
   "execution_count": null,
   "metadata": {},
   "outputs": [],
   "source": []
  }
 ],
 "metadata": {
  "kernelspec": {
   "display_name": "Python 3.9.7 ('base')",
   "language": "python",
   "name": "python3"
  },
  "language_info": {
   "codemirror_mode": {
    "name": "ipython",
    "version": 3
   },
   "file_extension": ".py",
   "mimetype": "text/x-python",
   "name": "python",
   "nbconvert_exporter": "python",
   "pygments_lexer": "ipython3",
   "version": "3.9.7"
  },
  "orig_nbformat": 4,
  "vscode": {
   "interpreter": {
    "hash": "81535c40c187213d8173a98c8ffbf422147d8403865cdcdb817e05fa807ec559"
   }
  }
 },
 "nbformat": 4,
 "nbformat_minor": 2
}
