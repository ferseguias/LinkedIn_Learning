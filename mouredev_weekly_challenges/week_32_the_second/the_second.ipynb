{
 "cells": [
  {
   "cell_type": "code",
   "execution_count": 1,
   "metadata": {},
   "outputs": [],
   "source": [
    "# Reto #32\n",
    "# EL SEGUNDO\n",
    "# Fecha publicación enunciado: 08/08/22\n",
    "# Fecha publicación resolución: 15/08/22\n",
    "# Dificultad: FÁCIL\n",
    "#\n",
    "# Enunciado: Dado un listado de números, encuentra el SEGUNDO más grande.\n",
    "#\n",
    "# Información adicional:\n",
    "# - Usa el canal de nuestro Discord (https://mouredev.com/discord) \"🔁reto-semanal\" para preguntas, dudas o prestar ayuda a la comunidad.\n",
    "# - Tienes toda la información sobre los retos semanales en https://retosdeprogramacion.com/semanales2022."
   ]
  },
  {
   "cell_type": "code",
   "execution_count": 4,
   "metadata": {},
   "outputs": [
    {
     "data": {
      "text/plain": [
       "100"
      ]
     },
     "execution_count": 4,
     "metadata": {},
     "output_type": "execute_result"
    }
   ],
   "source": [
    "import pandas as pd\n",
    "\n",
    "def the_second(x):\n",
    "    if len(x) >= 2:\n",
    "        x = [*set(list)]\n",
    "        x.sort(reverse=True)\n",
    "        return x[1]\n",
    "    else:\n",
    "        print('Error: list should contain more than 1 element')\n",
    "\n",
    "list = [1,21,21,212,100]\n",
    "the_second(list)"
   ]
  },
  {
   "cell_type": "code",
   "execution_count": null,
   "metadata": {},
   "outputs": [],
   "source": []
  }
 ],
 "metadata": {
  "kernelspec": {
   "display_name": "Python 3.9.7 ('base')",
   "language": "python",
   "name": "python3"
  },
  "language_info": {
   "codemirror_mode": {
    "name": "ipython",
    "version": 3
   },
   "file_extension": ".py",
   "mimetype": "text/x-python",
   "name": "python",
   "nbconvert_exporter": "python",
   "pygments_lexer": "ipython3",
   "version": "3.9.7"
  },
  "orig_nbformat": 4,
  "vscode": {
   "interpreter": {
    "hash": "81535c40c187213d8173a98c8ffbf422147d8403865cdcdb817e05fa807ec559"
   }
  }
 },
 "nbformat": 4,
 "nbformat_minor": 2
}
