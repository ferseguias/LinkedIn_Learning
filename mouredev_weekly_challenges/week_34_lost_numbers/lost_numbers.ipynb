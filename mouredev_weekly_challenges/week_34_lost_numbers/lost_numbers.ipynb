{
 "cells": [
  {
   "cell_type": "code",
   "execution_count": 51,
   "metadata": {},
   "outputs": [
    {
     "name": "stdout",
     "output_type": "stream",
     "text": [
      "[0, 1, 2, 4, 6, 8, 9, 10, 11, 12, 13, 14]\n"
     ]
    }
   ],
   "source": [
    "#Enunciado: Dado un array de enteros ordenado y sin repetidos, \n",
    "#crea una función que calcule y retorne todos los que faltan entre\n",
    "#el mayor y el menor.\n",
    "#- Lanza un error si el array de entrada no es correcto.\n",
    "\n",
    "def lost_num(array):\n",
    "    array.sort()\n",
    "    new_array = []\n",
    "    for i in range(min(array), max(array)):\n",
    "        if i in array:\n",
    "            pass\n",
    "        else:\n",
    "            new_array.append(i)\n",
    "    return print(new_array)\n",
    "\n",
    "lost_num([-1,3,5,7,15])"
   ]
  },
  {
   "cell_type": "code",
   "execution_count": null,
   "metadata": {},
   "outputs": [],
   "source": []
  }
 ],
 "metadata": {
  "kernelspec": {
   "display_name": "Python 3.8.9 64-bit",
   "language": "python",
   "name": "python3"
  },
  "language_info": {
   "codemirror_mode": {
    "name": "ipython",
    "version": 3
   },
   "file_extension": ".py",
   "mimetype": "text/x-python",
   "name": "python",
   "nbconvert_exporter": "python",
   "pygments_lexer": "ipython3",
   "version": "3.8.9"
  },
  "orig_nbformat": 4,
  "vscode": {
   "interpreter": {
    "hash": "31f2aee4e71d21fbe5cf8b01ff0e069b9275f58929596ceb00d14d90e3e16cd6"
   }
  }
 },
 "nbformat": 4,
 "nbformat_minor": 2
}
