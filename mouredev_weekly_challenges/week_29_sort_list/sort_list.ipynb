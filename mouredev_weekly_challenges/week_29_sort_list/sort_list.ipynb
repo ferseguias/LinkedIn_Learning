{
 "cells": [
  {
   "cell_type": "code",
   "execution_count": 30,
   "metadata": {},
   "outputs": [
    {
     "data": {
      "text/plain": [
       "[1, 2, 3, 3, 4, 13, 44, 54, 56, 321]"
      ]
     },
     "execution_count": 30,
     "metadata": {},
     "output_type": "execute_result"
    }
   ],
   "source": [
    "# Reto #29\n",
    "# ORDENA LA LISTA\n",
    "# Fecha publicación enunciado: 18/07/22\n",
    "# Fecha publicación resolución: 26/07/22\n",
    "# Dificultad: FÁCIL\n",
    "#\n",
    "# Enunciado: Crea una función que ordene y retorne una matriz de números.\n",
    "# - La función recibirá un listado (por ejemplo [2, 4, 6, 8, 9]) y un parámetro adicional\n",
    "#   \"Asc\" o \"Desc\" para indicar si debe ordenarse de menor a mayor o de mayor a menor.\n",
    "# - No se pueden utilizar funciones propias del lenguaje que lo resuelvan automáticamente.\n",
    "#\n",
    "# Información adicional:\n",
    "# - Usa el canal de nuestro discord (https://mouredev.com/discord) \"🔁reto-semanal\" para preguntas, dudas o prestar ayuda a la comunidad.\n",
    "# - Puedes hacer un Fork del repo y una Pull Request al repo original para que veamos tu solución aportada.\n",
    "# - Revisaré el ejercicio en directo desde Twitch el lunes siguiente al de su publicación.\n",
    "# - Subiré una posible solución al ejercicio el lunes siguiente al de su publicación.\n",
    "\n",
    "def sort_list(list, how):\n",
    "    sorted_list = []\n",
    "    copy_list = list.copy()\n",
    "    if how == 'Desc':\n",
    "        while len(sorted_list) != len(copy_list):\n",
    "            sorted_list.append(max(list))\n",
    "            list.remove(max(list))\n",
    "    elif how == 'Asc':\n",
    "        while len(sorted_list) != len(copy_list):\n",
    "            sorted_list.append(min(list))\n",
    "            list.remove(min(list))\n",
    "    return sorted_list\n",
    "\n",
    "list = [1,3,4,56,3,13,2,44,54,321]\n",
    "\n",
    "sort_list(list, 'Asc')"
   ]
  },
  {
   "cell_type": "code",
   "execution_count": null,
   "metadata": {},
   "outputs": [],
   "source": []
  }
 ],
 "metadata": {
  "kernelspec": {
   "display_name": "Python 3.8.9 64-bit",
   "language": "python",
   "name": "python3"
  },
  "language_info": {
   "codemirror_mode": {
    "name": "ipython",
    "version": 3
   },
   "file_extension": ".py",
   "mimetype": "text/x-python",
   "name": "python",
   "nbconvert_exporter": "python",
   "pygments_lexer": "ipython3",
   "version": "3.8.9"
  },
  "orig_nbformat": 4,
  "vscode": {
   "interpreter": {
    "hash": "31f2aee4e71d21fbe5cf8b01ff0e069b9275f58929596ceb00d14d90e3e16cd6"
   }
  }
 },
 "nbformat": 4,
 "nbformat_minor": 2
}
