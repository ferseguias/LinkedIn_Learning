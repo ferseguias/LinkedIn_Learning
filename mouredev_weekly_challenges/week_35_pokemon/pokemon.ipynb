{
 "cells": [
  {
   "cell_type": "code",
   "execution_count": 19,
   "metadata": {},
   "outputs": [
    {
     "name": "stdout",
     "output_type": "stream",
     "text": [
      "Pokemon ataque: Planta\n",
      "Ataque: 90\n",
      "Pokemon defensa: Agua\n",
      "Defensa: 96\n",
      "Efectividad: 2\n",
      "Daño: 93.75\n"
     ]
    }
   ],
   "source": [
    " #Enunciado: Crea un programa que calcule el daño de un ataque durante\n",
    " #una batalla Pokémon.\n",
    " #- La fórmula será la siguiente: daño = 50 * (ataque / defensa) * efectividad\n",
    " #- Efectividad: x2 (súper efectivo), x1 (neutral), x0.5 (no es muy efectivo)\n",
    " #- Sólo hay 4 tipos de Pokémon: Agua, Fuego, Planta y Eléctrico \n",
    " #  (buscar su efectividad)\n",
    " #- El programa recibe los siguientes parámetros:\n",
    " # - Tipo del Pokémon atacante.\n",
    " # - Tipo del Pokémon defensor.\n",
    " # - Ataque: Entre 1 y 100.\n",
    " # - Defensa: Entre 1 y 100.\n",
    "\n",
    "from random import *\n",
    "\n",
    "def poke_fight(pokemon_ataque, pokemon_defensa, ataque, defensa):\n",
    "    if pokemon_ataque == 'Agua':\n",
    "        if pokemon_defensa == 'Agua':\n",
    "            efectividad = 0.5\n",
    "        elif pokemon_defensa == 'Fuego':\n",
    "            efectividad = 2\n",
    "        elif pokemon_defensa == 'Planta':\n",
    "            efectividad = 0.5\n",
    "        else:\n",
    "            efectividad = 1\n",
    "    elif pokemon_ataque == 'Fuego':\n",
    "        if pokemon_defensa == 'Agua':\n",
    "            efectividad = 0.5\n",
    "        elif pokemon_defensa == 'Fuego':\n",
    "            efectividad = 0.5\n",
    "        elif pokemon_defensa == 'Planta':\n",
    "            efectividad = 2\n",
    "        else:\n",
    "            efectividad = 1\n",
    "    elif pokemon_ataque == 'Planta':\n",
    "        if pokemon_defensa == 'Agua':\n",
    "            efectividad = 2\n",
    "        elif pokemon_defensa == 'Fuego':\n",
    "            efectividad = 0.5\n",
    "        elif pokemon_defensa == 'Planta':\n",
    "            efectividad = 0.5\n",
    "        else:\n",
    "            efectividad = 1\n",
    "    elif pokemon_ataque == 'Electrico':\n",
    "        if pokemon_defensa == 'Agua':\n",
    "            efectividad = 2\n",
    "        elif pokemon_defensa == 'Fuego':\n",
    "            efectividad = 1\n",
    "        elif pokemon_defensa == 'Planta':\n",
    "            efectividad = 0.5\n",
    "        else:\n",
    "            efectividad = 0.5\n",
    "    print(f'Pokemon ataque: {pokemon_ataque}')\n",
    "    print(f'Ataque: {ataque}')\n",
    "    print(f'Pokemon defensa: {pokemon_defensa}')\n",
    "    print(f'Defensa: {defensa}')\n",
    "    print(f'Efectividad: {efectividad}')\n",
    "    damage = (50 * (ataque / defensa) * efectividad)\n",
    "    return print(f'Daño: {round(damage, 2)}')\n",
    "\n",
    "tipos_pokemones = ['Agua', 'Fuego', 'Planta', 'Electrico']\n",
    "\n",
    "poke_fight(tipos_pokemones[randint(0, 3)], tipos_pokemones[randint(0, 3)], randint(1, 100), randint(1, 100))"
   ]
  },
  {
   "cell_type": "code",
   "execution_count": null,
   "metadata": {},
   "outputs": [],
   "source": []
  }
 ],
 "metadata": {
  "kernelspec": {
   "display_name": "Python 3.8.9 64-bit",
   "language": "python",
   "name": "python3"
  },
  "language_info": {
   "codemirror_mode": {
    "name": "ipython",
    "version": 3
   },
   "file_extension": ".py",
   "mimetype": "text/x-python",
   "name": "python",
   "nbconvert_exporter": "python",
   "pygments_lexer": "ipython3",
   "version": "3.8.9"
  },
  "orig_nbformat": 4,
  "vscode": {
   "interpreter": {
    "hash": "31f2aee4e71d21fbe5cf8b01ff0e069b9275f58929596ceb00d14d90e3e16cd6"
   }
  }
 },
 "nbformat": 4,
 "nbformat_minor": 2
}
