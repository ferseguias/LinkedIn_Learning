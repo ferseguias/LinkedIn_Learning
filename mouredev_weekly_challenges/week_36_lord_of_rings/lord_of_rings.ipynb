{
 "cells": [
  {
   "cell_type": "code",
   "execution_count": 1,
   "metadata": {},
   "outputs": [],
   "source": [
    "#Enunciado: ¡La Tierra Media está en guerra! En ella lucharán razas leales\n",
    "#a Sauron contra otras bondadosas que no quieren que el mal reine\n",
    "#sobre sus tierras.\n",
    "#Cada raza tiene asociado un \"valor\" entre 1 y 5:\n",
    "#- Razas bondadosas: Pelosos (1), Sureños buenos (2), Enanos (3),\n",
    "#  Númenóreanos (4), Elfos (5)\n",
    "#- Razas malvadas: Sureños malos (2), Orcos (2), Goblins (2),\n",
    "#  Huargos (3), Trolls (5)\n",
    "#Crea un programa que calcule el resultado de la batalla entre\n",
    "#los 2 tipos de ejércitos:\n",
    "#- El resultado puede ser que gane el bien, el mal, o exista un empate.\n",
    "#  Dependiendo de la suma del valor del ejército y el número de integrantes.\n",
    "#- Cada ejército puede estar compuesto por un número de integrantes variable\n",
    "#  de cada raza.\n",
    "#- Tienes total libertad para modelar los datos del ejercicio.\n",
    "#Ej: 1 Peloso pierde contra 1 Orco\n",
    "#    2 Pelosos empatan contra 1 Orco\n",
    "#    3 Pelosos ganan a 1 Orco\n",
    "\n",
    "def war():\n",
    "    return\n",
    "\n"
   ]
  },
  {
   "cell_type": "code",
   "execution_count": null,
   "metadata": {},
   "outputs": [],
   "source": []
  }
 ],
 "metadata": {
  "kernelspec": {
   "display_name": "Python 3.9.7 ('base')",
   "language": "python",
   "name": "python3"
  },
  "language_info": {
   "codemirror_mode": {
    "name": "ipython",
    "version": 3
   },
   "file_extension": ".py",
   "mimetype": "text/x-python",
   "name": "python",
   "nbconvert_exporter": "python",
   "pygments_lexer": "ipython3",
   "version": "3.9.7"
  },
  "orig_nbformat": 4,
  "vscode": {
   "interpreter": {
    "hash": "81535c40c187213d8173a98c8ffbf422147d8403865cdcdb817e05fa807ec559"
   }
  }
 },
 "nbformat": 4,
 "nbformat_minor": 2
}
