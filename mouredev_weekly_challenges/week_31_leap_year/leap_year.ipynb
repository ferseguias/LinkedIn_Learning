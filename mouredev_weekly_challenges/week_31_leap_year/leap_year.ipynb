{
 "cells": [
  {
   "cell_type": "code",
   "execution_count": 1,
   "metadata": {},
   "outputs": [
    {
     "name": "stdout",
     "output_type": "stream",
     "text": [
      "2024 2028 2032 2036 2040 2044 2048 2052 2056 2060 2064 2068 2072 2076 2080 2084 2088 2092 2096 2100 2104 2108 2112 2116 2120 2124 2128 2132 2136 2140\n"
     ]
    }
   ],
   "source": [
    "# Reto #31\n",
    "# AÑOS BISIESTOS\n",
    "# Fecha publicación enunciado: 01/08/22\n",
    "# Fecha publicación resolución: 08/08/22\n",
    "# Dificultad: FÁCIL\n",
    "#\n",
    "# Enunciado: Crea una función que imprima los 30 próximos años bisiestos siguientes a uno dado.\n",
    "# - Utiliza el menor número de líneas para resolver el ejercicio.\n",
    "#\n",
    "# Información adicional:\n",
    "# - Usa el canal de nuestro discord (https://mouredev.com/discord) \"🔁reto-semanal\" para preguntas, dudas o prestar ayuda a la comunidad.\n",
    "# - Puedes hacer un Fork del repo y una Pull Request al repo original para que veamos tu solución aportada.\n",
    "# - Revisaré el ejercicio en directo desde Twitch el lunes siguiente al de su publicación.\n",
    "# - Subiré una posible solución al ejercicio el lunes siguiente al de su publicación.\n",
    "\n",
    "def leap_year(year):\n",
    "    while year % 4 != 0:\n",
    "        year = year + 1\n",
    "    leap_years = [year]\n",
    "    while len(leap_years) < 30:\n",
    "        year = year + 4\n",
    "        leap_years.append(year)\n",
    "    return print(*leap_years)\n",
    "\n",
    "leap_year(2021)"
   ]
  },
  {
   "cell_type": "code",
   "execution_count": null,
   "metadata": {},
   "outputs": [],
   "source": []
  }
 ],
 "metadata": {
  "kernelspec": {
   "display_name": "Python 3.9.7 ('base')",
   "language": "python",
   "name": "python3"
  },
  "language_info": {
   "codemirror_mode": {
    "name": "ipython",
    "version": 3
   },
   "file_extension": ".py",
   "mimetype": "text/x-python",
   "name": "python",
   "nbconvert_exporter": "python",
   "pygments_lexer": "ipython3",
   "version": "3.9.7"
  },
  "orig_nbformat": 4,
  "vscode": {
   "interpreter": {
    "hash": "81535c40c187213d8173a98c8ffbf422147d8403865cdcdb817e05fa807ec559"
   }
  }
 },
 "nbformat": 4,
 "nbformat_minor": 2
}
